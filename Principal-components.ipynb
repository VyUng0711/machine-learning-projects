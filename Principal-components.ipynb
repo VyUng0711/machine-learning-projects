{
 "cells": [
  {
   "cell_type": "code",
   "execution_count": 3,
   "metadata": {},
   "outputs": [],
   "source": [
    "from PIL import Image \n",
    "import numpy as np\n",
    "import os, sys"
   ]
  },
  {
   "cell_type": "code",
   "execution_count": 4,
   "metadata": {
    "collapsed": true
   },
   "outputs": [],
   "source": [
    "from sklearn.decomposition import PCA"
   ]
  },
  {
   "cell_type": "code",
   "execution_count": 5,
   "metadata": {
    "collapsed": true
   },
   "outputs": [],
   "source": [
    "from sklearn.cross_validation import train_test_split"
   ]
  },
  {
   "cell_type": "code",
   "execution_count": 6,
   "metadata": {
    "collapsed": true
   },
   "outputs": [],
   "source": [
    "from sklearn.metrics import accuracy_score"
   ]
  },
  {
   "cell_type": "code",
   "execution_count": 7,
   "metadata": {},
   "outputs": [],
   "source": [
    "from sklearn.svm import LinearSVC\n",
    "from sklearn.datasets import make_classification"
   ]
  },
  {
   "cell_type": "code",
   "execution_count": null,
   "metadata": {},
   "outputs": [],
   "source": [
    "from sklearn.discriminant_analysis import LinearDiscriminantAnalysis"
   ]
  },
  {
   "cell_type": "code",
   "execution_count": 9,
   "metadata": {},
   "outputs": [],
   "source": [
    "#Resize images:\n",
    "def resize(path,dirs):\n",
    "    final = np.zeros(shape=(200,10,10,3))\n",
    "    for i in range(len(dirs)): #Iterates through each picture\n",
    "        item = dirs[i]\n",
    "        im = Image.open(os.path.join(path, item))\n",
    "        imResize = im.resize((10,10)) \n",
    "        final[i] = np.asarray(imResize)\n",
    "        im.close()\n",
    "    return final\n",
    "mypath1 = '/Users/VyUng/Downloads/woman'\n",
    "mydirs1 = os.listdir(mypath1)\n",
    "mydirs1 = mydirs1[1:]\n",
    "mypath2 = '/Users/VyUng/Downloads/man'\n",
    "mydirs2 = os.listdir(mypath2)\n",
    "mydirs2 = mydirs2[1:]"
   ]
  },
  {
   "cell_type": "code",
   "execution_count": 10,
   "metadata": {},
   "outputs": [],
   "source": [
    "resized_woman = resize(mypath1,mydirs1)\n",
    "resized_man = resize(mypath2,mydirs2)"
   ]
  },
  {
   "cell_type": "code",
   "execution_count": 107,
   "metadata": {},
   "outputs": [],
   "source": [
    "def reshape_pixel(array):\n",
    "    reshaped=np.zeros(shape=(200,100,3))\n",
    "    for i in range(len(array)):\n",
    "        reshaped[i] = (array[i]).reshape(100,3)\n",
    "    return reshaped\n",
    "pixel_woman=reshape_pixel(resized_woman)\n",
    "pixel_man=reshape_pixel(resized_man)\n",
    "\n"
   ]
  },
  {
   "cell_type": "code",
   "execution_count": 11,
   "metadata": {},
   "outputs": [],
   "source": [
    "def reshape_all(array,category):\n",
    "    reshaped =np.zeros(shape=(200,301))\n",
    "    for i in range(len(array)):\n",
    "        reshaped[i] = np.concatenate(((array[i]).reshape(300),np.array([category])),axis=0)\n",
    "    return reshaped\n",
    "reshaped_woman=reshape_all(resized_woman,1)\n",
    "#print reshaped_woman\n",
    "reshaped_man=reshape_all(resized_man,0)\n",
    "#print reshaped_man"
   ]
  },
  {
   "cell_type": "code",
   "execution_count": 12,
   "metadata": {},
   "outputs": [
    {
     "name": "stdout",
     "output_type": "stream",
     "text": [
      "(400, 10, 10, 3)\n"
     ]
    }
   ],
   "source": [
    "x=np.concatenate((resized_woman,resized_man),axis=0)\n",
    "print x.shape\n",
    "x_reshaped=np.zeros(shape=(400,300))\n",
    "for i in range(len(x)):\n",
    "    x_reshaped[i] = (x[i]).reshape(300)\n",
    "#print x_reshaped\n"
   ]
  },
  {
   "cell_type": "code",
   "execution_count": 13,
   "metadata": {},
   "outputs": [],
   "source": [
    "man_label=np.zeros(shape=(200))\n",
    "woman_label=np.ones(shape=(200))\n",
    "#print man_label\n",
    "#print woman_label\n",
    "y=np.concatenate((woman_label,man_label),axis=0)\n",
    "#print y\n",
    "#print x_reshaped"
   ]
  },
  {
   "cell_type": "code",
   "execution_count": 14,
   "metadata": {},
   "outputs": [
    {
     "name": "stdout",
     "output_type": "stream",
     "text": [
      "(320, 300)\n",
      "(320,)\n"
     ]
    }
   ],
   "source": [
    "(x_train,x_test,y_train,y_test)=train_test_split(x_reshaped,y,test_size=0.2,\n",
    "                                                 random_state=42)\n",
    "print x_train.shape\n",
    "print y_train.shape"
   ]
  },
  {
   "cell_type": "code",
   "execution_count": 15,
   "metadata": {},
   "outputs": [
    {
     "name": "stdout",
     "output_type": "stream",
     "text": [
      "0.625\n"
     ]
    }
   ],
   "source": [
    "clf = LinearSVC(random_state=0)\n",
    "clf.fit(x_train,y_train)\n",
    "#print (clf.coef_)\n",
    "predicted_clf=clf.predict(x_test)\n",
    "print accuracy_score(y_test,predicted_clf)\n",
    "#predicted_train=clf.predict(x_train)\n",
    "#print accuracy_score(y_train,predicted_train)"
   ]
  },
  {
   "cell_type": "code",
   "execution_count": 16,
   "metadata": {},
   "outputs": [
    {
     "name": "stdout",
     "output_type": "stream",
     "text": [
      "0.525\n"
     ]
    }
   ],
   "source": [
    "pca=PCA(n_components=2)\n",
    "x_pca=pca.fit(x_reshaped).transform(x_reshaped)\n",
    "(x_train_pca,x_test_pca,y_train_pca,y_test_pca)=train_test_split(x_pca,y,test_size=0.2,\n",
    "                                                 random_state=42)\n",
    "clf_pca = LinearSVC(random_state=0)\n",
    "clf_pca.fit(x_train_pca,y_train_pca)\n",
    "#print (clf_pca.coef_)\n",
    "predicted_clf_pca=clf_pca.predict(x_test_pca)\n",
    "print accuracy_score(y_test_pca,predicted_clf_pca)"
   ]
  },
  {
   "cell_type": "code",
   "execution_count": null,
   "metadata": {},
   "outputs": [],
   "source": [
    "lda=LinearDiscriminantAnalysis(n_components=2)\n",
    "x_lda=lda.fit(x_reshaped,y).transform(x_reshaped)\n",
    "(x_train_lda,x_test_lda,y_train_lda,y_test_lda)=train_test_split(x_lda,y,test_size=0.2,\n",
    "                                                 random_state=42)\n",
    "clf_lda = LinearSVC(random_state=0)\n",
    "clf_lda.fit(x_train_lda,y_train_lda)\n",
    "#print (clf_lda.coef_)\n",
    "predicted_clf_lda=clf_lda.predict(x_test_lda)\n",
    "print accuracy_score(y_test_lda,predicted_clf_lda)"
   ]
  },
  {
   "cell_type": "code",
   "execution_count": null,
   "metadata": {
    "collapsed": true
   },
   "outputs": [],
   "source": [
    "import numpy as np\n",
    "from sklearn.discriminant_analysis import LinearDiscriminantAnalysis\n",
    "model = LinearDiscriminantAnalysis()\n",
    "model.fit(x,y)\n",
    "LinearDiscriminantAnalysis(n_components=None, priors=None, shrinkage=None,\n",
    "              solver='svd', store_covariance=False, tol=0.0001)\n",
    "print(clf.predict([[300, 200, 3]]))"
   ]
  }
 ],
 "metadata": {
  "anaconda-cloud": {},
  "kernelspec": {
   "display_name": "Python 3",
   "language": "python",
   "name": "python3"
  },
  "language_info": {
   "codemirror_mode": {
    "name": "ipython",
    "version": 3
   },
   "file_extension": ".py",
   "mimetype": "text/x-python",
   "name": "python",
   "nbconvert_exporter": "python",
   "pygments_lexer": "ipython3",
   "version": "3.6.4"
  }
 },
 "nbformat": 4,
 "nbformat_minor": 1
}
