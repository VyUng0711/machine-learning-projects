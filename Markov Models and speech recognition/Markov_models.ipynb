{
 "cells": [
  {
   "cell_type": "code",
   "execution_count": 1,
   "metadata": {
    "collapsed": true
   },
   "outputs": [],
   "source": [
    "import glob\n",
    "import os\n",
    "import numpy as np"
   ]
  },
  {
   "cell_type": "code",
   "execution_count": 2,
   "metadata": {
    "collapsed": false
   },
   "outputs": [
    {
     "name": "stderr",
     "output_type": "stream",
     "text": [
      "/Users/VyUng/anaconda2/lib/python2.7/site-packages/matplotlib/font_manager.py:273: UserWarning: Matplotlib is building the font cache using fc-list. This may take a moment.\n",
      "  warnings.warn('Matplotlib is building the font cache using fc-list. This may take a moment.')\n"
     ]
    }
   ],
   "source": [
    "import matplotlib.pyplot as plt"
   ]
  },
  {
   "cell_type": "code",
   "execution_count": 3,
   "metadata": {
    "collapsed": true
   },
   "outputs": [],
   "source": [
    "import math"
   ]
  },
  {
   "cell_type": "code",
   "execution_count": 4,
   "metadata": {
    "collapsed": false
   },
   "outputs": [],
   "source": [
    "def processing_data(path):\n",
    "    get_files=glob.glob(os.path.join(os.getcwd(), path))\n",
    "    result=[]\n",
    "    for file_path in get_files :\n",
    "        with open(file_path) as f_input:\n",
    "            result.append(f_input.read())\n",
    "    return result\n",
    "train_data = processing_data(\"symbol/language-training*\")\n",
    "test_data = processing_data(\"symbol/language-test*\")"
   ]
  },
  {
   "cell_type": "code",
   "execution_count": 5,
   "metadata": {
    "collapsed": false
   },
   "outputs": [],
   "source": [
    "language_A=processing_data(\"symbol/language-training-langA*\")\n",
    "language_B=processing_data(\"symbol/language-training-langB*\")\n",
    "language_C=processing_data(\"symbol/language-training-langC*\")"
   ]
  },
  {
   "cell_type": "code",
   "execution_count": 6,
   "metadata": {
    "collapsed": false
   },
   "outputs": [],
   "source": [
    "letters=['A','o','e','t','p','g','k']\n",
    "def transition_matrix(language):\n",
    "    table=np.zeros((7,7))\n",
    "    for string in language:\n",
    "        for index in range(len(string)-1):\n",
    "            for i in range(len(letters)):\n",
    "                if string[index]==letters[i]:\n",
    "                    for j in range(len(letters)):\n",
    "                        if string[index+1]==letters[j]:\n",
    "                            table[i][j]+=1\n",
    "    table=table/table.sum(axis=1)[:,None]\n",
    "    return table\n"
   ]
  },
  {
   "cell_type": "code",
   "execution_count": 7,
   "metadata": {
    "collapsed": false
   },
   "outputs": [],
   "source": [
    "table_A=transition_matrix(language_A)\n",
    "table_B=transition_matrix(language_B)\n",
    "table_C=transition_matrix(language_C)"
   ]
  },
  {
   "cell_type": "code",
   "execution_count": 8,
   "metadata": {
    "collapsed": false
   },
   "outputs": [],
   "source": [
    "def get_likelihood(table, test_string):\n",
    "    log_likelihood=0\n",
    "    for index in range(len(test_string)-1):\n",
    "        for i in range(len(letters)):\n",
    "            if test_string[index]==letters[i]:\n",
    "                for j in range(len(letters)):\n",
    "                    if test_string[index+1]==letters[j]:\n",
    "                        if table[i][j]==0:\n",
    "                            return 0\n",
    "                        else:\n",
    "                            log_likelihood+=math.log(table[i][j])\n",
    "    likelihood=math.exp(log_likelihood)\n",
    "    return likelihood"
   ]
  },
  {
   "cell_type": "code",
   "execution_count": 9,
   "metadata": {
    "collapsed": true
   },
   "outputs": [],
   "source": [
    "def classifier(test_set,table_A,table_B,table_C):\n",
    "    posteriors=[]\n",
    "    for string in test_set:\n",
    "        lA=get_likelihood(table_A, string)\n",
    "        lB=get_likelihood(table_B, string)\n",
    "        lC=get_likelihood(table_C, string)\n",
    "        evidence=lA+lB+lC\n",
    "        this_posterior=[lA/evidence,lB/evidence,lC/evidence]\n",
    "        posteriors.append(this_posterior)\n",
    "    return posteriors\n",
    "        "
   ]
  },
  {
   "cell_type": "code",
   "execution_count": 10,
   "metadata": {
    "collapsed": false
   },
   "outputs": [
    {
     "name": "stdout",
     "output_type": "stream",
     "text": [
      "[[5.256563173673339e-61, 0.0, 1.0], [4.627742576668604e-68, 0.0, 1.0], [1.0, 0.0, 1.012551150199641e-34], [3.361094457359881e-46, 1.0, 6.176188211356044e-59], [1.0, 0.0, 1.3215362632439907e-46], [1.0, 0.0, 1.1527411981126842e-39], [2.646315875864538e-63, 1.0, 4.049763080752548e-62], [1.0, 0.0, 7.480114916700446e-42], [2.2198377249617136e-81, 0.0, 1.0], [1.0, 0.0, 1.024382283460967e-46]]\n"
     ]
    }
   ],
   "source": [
    "print classifier(test_data,table_A,table_B,table_C)"
   ]
  },
  {
   "cell_type": "code",
   "execution_count": 11,
   "metadata": {
    "collapsed": false
   },
   "outputs": [
    {
     "name": "stdout",
     "output_type": "stream",
     "text": [
      "eoggeggAeggepgpppoppogopppgoppoopegAAoAAAtAtttooepooppteeeeotpopppeeoepooopopgoooepoepotpoegogggggkeggpogopopeAtAttAoApAtttAggeAgegettttAAAAtoeeggeteoAopopotoktttpoepegpgtgAgAeeppeoooopgeggpAAAAgAtgegogoeepAtAtAAotAAAtttAtkAAAtAAktAAAtttAtAAoAtteeoopoAoAtoAAtAAApgeoeeeeoeeegteoAopeAkopgpeAgetAeeotAttAAeAAktttkAptAetAttAkAAAttAAkAAAttAAAAgAgkgogppgooApkpoAopopptotegoAppppAgettgtteAtttAAttAtpoooopopkeogeeettgtAAttAtAtttpopptoAokpopooooAooeoopopptoopgpAAootAtgtpgeeeeegegeAkeAgtoAoAooepgeegegeegekeegtoAAttttttggeegkeegggetgggggeggegeAgpoooktoppoopApoooAtAeAgegegoegeAgpeotppogpoppppoppoppoootAtAAAtApopoopooooopopppopoppoottoopopookAtAAAtettApAtttooAAtteeoAttppeAgtpeegoeeAtoAteeAeeppopekotktetppgpkgktopAAtkkgegttAAtoopopkeAApgoAotteegegeogkoggpAggpkAgAttttAAtAttAteeeopoetAttAtkeoAopgtAtktgtgttopooppgopppppppopeooAptoopopAookApoggtpttttoAoppoopAppoAoppooppptpAooppppppoooAAAtttttttAtteegggeeoeegeoeggkettkAAoAkAAteeggggkAgAtpAAAttAtAAAptAeppAAAopppAApkeeokpeegpppekpegeeeteoopoApoookoogggegekopo\n"
     ]
    }
   ],
   "source": [
    "with open(\"speaker.txt\",'r')as doc:\n",
    "    string=doc.read()\n",
    "print string"
   ]
  },
  {
   "cell_type": "code",
   "execution_count": 12,
   "metadata": {
    "collapsed": false
   },
   "outputs": [],
   "source": [
    "def expectation(letters,text,emission_table,transition_table,prior):\n",
    "    posteriors=np.empty([1000, 3])\n",
    "    for index in range(len(text)):\n",
    "        for i in range(len(letters)):\n",
    "            if text[index]==letters[i]:\n",
    "                likelihood=emission_table[:,i]\n",
    "                posterior=(likelihood*prior)/(sum(likelihood*prior))\n",
    "                for k in range(2):\n",
    "                    prior[k]=sum(posterior*transition_table[:,k])\n",
    "                posteriors[index]=posterior\n",
    "    return posteriors\n"
   ]
  },
  {
   "cell_type": "code",
   "execution_count": 37,
   "metadata": {
    "collapsed": true
   },
   "outputs": [],
   "source": [
    "def maximization(post,string,letters):\n",
    "    num_speaker=3\n",
    "    num_letter=7\n",
    "    e_matrix=np.empty([num_speaker,num_letter])\n",
    "    t_matrix=np.empty([num_speaker,num_speaker])\n",
    "    for s_index in range(len(string)):\n",
    "        for person in range(num_speaker):\n",
    "            for l_index in range(len(letters)):\n",
    "                if string[s_index]==letters[l_index]:\n",
    "                    e_matrix[person,l_index]+=post[s_index,person]\n",
    "    e_matrix=e_matrix/(e_matrix.sum(axis=1)[:,None])\n",
    "    for before in range(num_speaker):\n",
    "        for after in range(num_speaker):\n",
    "            for pos in range(len(post)-1):\n",
    "                t_matrix[before,after]+=post[pos,before]*post[pos+1,after]\n",
    "    t_matrix=t_matrix/(t_matrix.sum(axis=0,keepdims=1))\n",
    "    return (e_matrix,t_matrix)    "
   ]
  },
  {
   "cell_type": "code",
   "execution_count": 48,
   "metadata": {
    "collapsed": false
   },
   "outputs": [
    {
     "name": "stdout",
     "output_type": "stream",
     "text": [
      "[[  1.00000000e+00   2.16365370e-70   8.04415481e-79]\n",
      " [  3.66431377e-01   3.49947145e-10   6.33568623e-01]\n",
      " [  1.00000000e+00   1.49921241e-58   5.38462770e-74]\n",
      " ..., \n",
      " [  2.91691122e-01   4.76204362e-10   7.08308877e-01]\n",
      " [  8.99025015e-08   3.58554779e-47   9.99999910e-01]\n",
      " [  7.16186484e-02   1.65745648e-10   9.28381351e-01]]\n"
     ]
    }
   ],
   "source": [
    "np.random.seed(0)\n",
    "row1=np.random.dirichlet(np.ones(7),size=1)\n",
    "row2=np.random.dirichlet(np.ones(7),size=1)\n",
    "row3=np.random.dirichlet(np.ones(7),size=1)\n",
    "emission_table=np.concatenate((row1,row2,row3))\n",
    "transition_table=np.array([[0.9,0.05,0.05],[0.05,0.9,0.05],[0.05,0.05,0.9]])\n",
    "prior=np.array([1/float(3),1/float(3),1/float(3)])\n",
    "num_iters=1000\n",
    "for i in range(num_iters):\n",
    "    new_pos=expectation(letters,string,emission_table,transition_table,prior)\n",
    "    emission_table=maximization(new_pos,string,letters)[0]\n",
    "    transition_table=maximization(new_pos,string,letters)[1]\n",
    "print new_pos"
   ]
  },
  {
   "cell_type": "code",
   "execution_count": 53,
   "metadata": {
    "collapsed": false
   },
   "outputs": [],
   "source": [
    "ps=[]\n",
    "ls=[]\n",
    "for i in range(len(new_pos)):\n",
    "    this_p=np.argmax(new_pos[i])+1\n",
    "    ps.append(this_p)\n",
    "    ls.append(string[i])\n",
    "    #print \"Person\",this_p,\"spoke letter\", string[i]"
   ]
  },
  {
   "cell_type": "code",
   "execution_count": 50,
   "metadata": {
    "collapsed": false
   },
   "outputs": [
    {
     "name": "stdout",
     "output_type": "stream",
     "text": [
      "Phoneme Speaker    A    e    g   k    o    p    t   All\n",
      "0             1    0  141  121  24    0    0    0   286\n",
      "1             2  176    0    0  15    0    0  168   359\n",
      "2             3    0    0    0   0  188  167    0   355\n",
      "3           All  176  141  121  39  188  167  168  1000\n"
     ]
    }
   ],
   "source": [
    "import pandas as pd\n",
    "df=pd.DataFrame({'Speaker':ps, 'Phoneme':ls})\n",
    "totals=pd.crosstab(df['Speaker'],df['Phoneme'],margins=True).reset_index()\n",
    "print totals"
   ]
  },
  {
   "cell_type": "code",
   "execution_count": 51,
   "metadata": {
    "collapsed": false
   },
   "outputs": [],
   "source": [
    "plot_pos=new_pos\n",
    "plot_pos=np.transpose(plot_pos)"
   ]
  },
  {
   "cell_type": "code",
   "execution_count": 52,
   "metadata": {
    "collapsed": false
   },
   "outputs": [
    {
     "data": {
      "image/png": "[encoded data removed]",
      "text/plain": [
       "<matplotlib.figure.Figure at 0x10a61af90>"
      ]
     },
     "metadata": {},
     "output_type": "display_data"
    }
   ],
   "source": [
    "fig, ax = plt.subplots()\n",
    "ax.stackplot(np.arange(1000), plot_pos)\n",
    "plt.show()"
   ]
  },
  {
   "cell_type": "code",
   "execution_count": null,
   "metadata": {
    "collapsed": true
   },
   "outputs": [],
   "source": []
  },
  {
   "cell_type": "code",
   "execution_count": null,
   "metadata": {
    "collapsed": true
   },
   "outputs": [],
   "source": [
    "\n",
    "   \n",
    "    "
   ]
  }
 ],
 "metadata": {
  "anaconda-cloud": {},
  "kernelspec": {
   "display_name": "Python [default]",
   "language": "python",
   "name": "python2"
  },
  "language_info": {
   "codemirror_mode": {
    "name": "ipython",
    "version": 2
   },
   "file_extension": ".py",
   "mimetype": "text/x-python",
   "name": "python",
   "nbconvert_exporter": "python",
   "pygments_lexer": "ipython2",
   "version": "2.7.12"
  }
 },
 "nbformat": 4,
 "nbformat_minor": 1
}
