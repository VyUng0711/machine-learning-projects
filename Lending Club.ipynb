{
 "cells": [
  {
   "cell_type": "code",
   "execution_count": 2,
   "metadata": {},
   "outputs": [
    {
     "name": "stderr",
     "output_type": "stream",
     "text": [
      "/Users/VyUng/anaconda2/lib/python2.7/site-packages/matplotlib/font_manager.py:273: UserWarning: Matplotlib is building the font cache using fc-list. This may take a moment.\n",
      "  warnings.warn('Matplotlib is building the font cache using fc-list. This may take a moment.')\n"
     ]
    }
   ],
   "source": [
    "import pandas as pd\n",
    "#from sklearn_pandas import DataFrameMapper\n",
    "import numpy as np\n",
    "import matplotlib.pyplot as plt\n",
    "%matplotlib inline"
   ]
  },
  {
   "cell_type": "code",
   "execution_count": 3,
   "metadata": {},
   "outputs": [],
   "source": [
    "from sklearn import datasets, linear_model\n",
    "from sklearn.metrics import mean_squared_error  \n",
    "from sklearn.metrics import r2_score,accuracy_score\n",
    "from sklearn.metrics import roc_auc_score, confusion_matrix\n",
    "from sklearn.metrics import classification_report\n",
    "from sklearn.linear_model import LogisticRegression\n",
    "from sklearn import preprocessing"
   ]
  },
  {
   "cell_type": "code",
   "execution_count": 4,
   "metadata": {},
   "outputs": [],
   "source": [
    "from sklearn.cross_validation import train_test_split"
   ]
  },
  {
   "cell_type": "code",
   "execution_count": 5,
   "metadata": {
    "collapsed": true
   },
   "outputs": [],
   "source": [
    "from sklearn.cross_validation import cross_val_score"
   ]
  },
  {
   "cell_type": "code",
   "execution_count": 6,
   "metadata": {},
   "outputs": [],
   "source": [
    "accept=pd.read_csv('/Users/VyUng/Desktop/LoanStats3a.csv'\n",
    "                   ,low_memory=False)"
   ]
  },
  {
   "cell_type": "code",
   "execution_count": 7,
   "metadata": {
    "collapsed": true
   },
   "outputs": [],
   "source": [
    "accept['result']=[1]*len(accept)"
   ]
  },
  {
   "cell_type": "code",
   "execution_count": 8,
   "metadata": {
    "collapsed": true
   },
   "outputs": [],
   "source": [
    "reject=pd.read_csv('/Users/VyUng/Desktop/RejectStatsA.csv'\n",
    "                   ,low_memory=False)"
   ]
  },
  {
   "cell_type": "code",
   "execution_count": 9,
   "metadata": {
    "collapsed": true
   },
   "outputs": [],
   "source": [
    "reject['result']=[0]*len(reject)"
   ]
  },
  {
   "cell_type": "code",
   "execution_count": 10,
   "metadata": {},
   "outputs": [],
   "source": [
    "request = list(reject.request) + list(accept.loan_amnt)"
   ]
  },
  {
   "cell_type": "code",
   "execution_count": 11,
   "metadata": {
    "collapsed": true
   },
   "outputs": [],
   "source": [
    "dti = list(reject.dti) + list(accept.dti)"
   ]
  },
  {
   "cell_type": "code",
   "execution_count": 12,
   "metadata": {},
   "outputs": [],
   "source": [
    "state = list(reject.State) + list(accept.addr_state)"
   ]
  },
  {
   "cell_type": "code",
   "execution_count": 13,
   "metadata": {
    "collapsed": true
   },
   "outputs": [],
   "source": [
    "emp_length = list(reject.emp_length) + list(accept.emp_length)"
   ]
  },
  {
   "cell_type": "code",
   "execution_count": 14,
   "metadata": {
    "collapsed": true
   },
   "outputs": [],
   "source": [
    "funded_amnt = [0]*len(reject) + list(accept.funded_amnt)"
   ]
  },
  {
   "cell_type": "code",
   "execution_count": 15,
   "metadata": {
    "collapsed": true
   },
   "outputs": [],
   "source": [
    "result = list(reject.result)+ list(accept.result)"
   ]
  },
  {
   "cell_type": "code",
   "execution_count": 16,
   "metadata": {
    "collapsed": true
   },
   "outputs": [],
   "source": [
    "data = pd.DataFrame.from_items([('request',request), \n",
    "                                  ('dti',dti),\n",
    "                                  ('state',state),\n",
    "                                  ('emp_length',emp_length),\n",
    "                                  ('funded_amnt', funded_amnt),\n",
    "                                ('result', result)])"
   ]
  },
  {
   "cell_type": "code",
   "execution_count": 17,
   "metadata": {},
   "outputs": [
    {
     "data": {
      "text/html": [
       "<div>\n",
       "<table border=\"1\" class=\"dataframe\">\n",
       "  <thead>\n",
       "    <tr style=\"text-align: right;\">\n",
       "      <th></th>\n",
       "      <th>request</th>\n",
       "      <th>dti</th>\n",
       "      <th>state</th>\n",
       "      <th>emp_length</th>\n",
       "      <th>funded_amnt</th>\n",
       "      <th>result</th>\n",
       "    </tr>\n",
       "  </thead>\n",
       "  <tbody>\n",
       "    <tr>\n",
       "      <th>328220</th>\n",
       "      <td>1500.0</td>\n",
       "      <td>0.0</td>\n",
       "      <td>MD</td>\n",
       "      <td>&lt; 1 year</td>\n",
       "      <td>0</td>\n",
       "      <td>0</td>\n",
       "    </tr>\n",
       "  </tbody>\n",
       "</table>\n",
       "</div>"
      ],
      "text/plain": [
       "        request  dti state emp_length  funded_amnt  result\n",
       "328220   1500.0  0.0    MD   < 1 year            0       0"
      ]
     },
     "execution_count": 17,
     "metadata": {},
     "output_type": "execute_result"
    }
   ],
   "source": [
    "data.sample(1)"
   ]
  },
  {
   "cell_type": "code",
   "execution_count": 18,
   "metadata": {},
   "outputs": [],
   "source": [
    "#data.isnull().sum()\n",
    "data = data.dropna()\n",
    "emp1 =['< 1 year','1 year']\n",
    "emp2 =['2 years','3 years','4 years','5 years']\n",
    "emp3 =['6 years','7 years','8 years','10 years']\n",
    "emp4 =['10+ years']\n",
    "emp=[]"
   ]
  },
  {
   "cell_type": "code",
   "execution_count": 19,
   "metadata": {},
   "outputs": [],
   "source": [
    "for index, row in data.iterrows():\n",
    "    if row['emp_length'] in emp1:\n",
    "        emp.append(1)\n",
    "    elif row['emp_length'] in emp2:\n",
    "        emp.append(2)\n",
    "    elif row['emp_length'] in emp3:\n",
    "        emp.append(3)\n",
    "    else:\n",
    "        emp.append(4)\n",
    "data['emp']=emp\n",
    "        "
   ]
  },
  {
   "cell_type": "code",
   "execution_count": 20,
   "metadata": {},
   "outputs": [
    {
     "data": {
      "text/html": [
       "<div>\n",
       "<table border=\"1\" class=\"dataframe\">\n",
       "  <thead>\n",
       "    <tr style=\"text-align: right;\">\n",
       "      <th></th>\n",
       "      <th>request</th>\n",
       "      <th>dti</th>\n",
       "      <th>state</th>\n",
       "      <th>emp_length</th>\n",
       "      <th>funded_amnt</th>\n",
       "      <th>result</th>\n",
       "      <th>emp</th>\n",
       "    </tr>\n",
       "  </thead>\n",
       "  <tbody>\n",
       "    <tr>\n",
       "      <th>597940</th>\n",
       "      <td>2000.0</td>\n",
       "      <td>0.00</td>\n",
       "      <td>NY</td>\n",
       "      <td>&lt; 1 year</td>\n",
       "      <td>0</td>\n",
       "      <td>0</td>\n",
       "      <td>1</td>\n",
       "    </tr>\n",
       "    <tr>\n",
       "      <th>599944</th>\n",
       "      <td>35000.0</td>\n",
       "      <td>0.00</td>\n",
       "      <td>OH</td>\n",
       "      <td>&lt; 1 year</td>\n",
       "      <td>0</td>\n",
       "      <td>0</td>\n",
       "      <td>1</td>\n",
       "    </tr>\n",
       "    <tr>\n",
       "      <th>236734</th>\n",
       "      <td>3900.0</td>\n",
       "      <td>19.85</td>\n",
       "      <td>PA</td>\n",
       "      <td>&lt; 1 year</td>\n",
       "      <td>0</td>\n",
       "      <td>0</td>\n",
       "      <td>1</td>\n",
       "    </tr>\n",
       "  </tbody>\n",
       "</table>\n",
       "</div>"
      ],
      "text/plain": [
       "        request    dti state emp_length  funded_amnt  result  emp\n",
       "597940   2000.0   0.00    NY   < 1 year            0       0    1\n",
       "599944  35000.0   0.00    OH   < 1 year            0       0    1\n",
       "236734   3900.0  19.85    PA   < 1 year            0       0    1"
      ]
     },
     "execution_count": 20,
     "metadata": {},
     "output_type": "execute_result"
    }
   ],
   "source": [
    "data.sample(3)"
   ]
  },
  {
   "cell_type": "code",
   "execution_count": 21,
   "metadata": {},
   "outputs": [],
   "source": [
    "#Divide states by regions based on the \"standard federal region\"\n",
    "#https://en.wikipedia.org/wiki/List_of_regions_of_the_United_States\n",
    "region1=['CT', 'ME', 'MA', 'NH', 'RI', 'VT']\n",
    "region2=['NJ', 'NY', 'PR', 'VI'] \n",
    "region3=['DE', 'MD', 'PA', 'VA', 'WV'] \n",
    "region4=['AL', 'FL', 'GA', 'KY', 'MS', 'NC', 'SC', 'TN'] \n",
    "region5=['IL', 'IN', 'MI', 'MN', 'OH', 'WI']\n",
    "region6=['AR', 'LA', 'NM', 'OK', 'TX']\n",
    "region7=['IA', 'KS', 'MO', 'NE']\n",
    "region8=['CO', 'MT', 'ND', 'SD', 'UT', 'WY']\n",
    "region9=['AZ', 'CA', 'HI', 'NV', 'GU']\n",
    "region10=['AK', 'ID', 'OR', 'WA'] \n",
    "region=[]"
   ]
  },
  {
   "cell_type": "code",
   "execution_count": 22,
   "metadata": {},
   "outputs": [],
   "source": [
    "for index, row in data.iterrows():\n",
    "    if row['state'] in region1:\n",
    "        region.append(1)\n",
    "    elif row['state'] in region2:\n",
    "        region.append(2)\n",
    "    elif row['state'] in region3:\n",
    "        region.append(3)\n",
    "    elif row['state'] in region4:\n",
    "        region.append(4)\n",
    "    elif row['state'] in region5:\n",
    "        region.append(5)\n",
    "    elif row['state'] in region6:\n",
    "        region.append(6)\n",
    "    elif row['state'] in region7:\n",
    "        region.append(7)\n",
    "    elif row['state'] in region8:\n",
    "        region.append(8)\n",
    "    elif row['state'] in region9:\n",
    "        region.append(9)\n",
    "    elif row['state'] in region10:\n",
    "        region.append(10)\n",
    "    else:\n",
    "        region.append(5)\n"
   ]
  },
  {
   "cell_type": "code",
   "execution_count": 23,
   "metadata": {
    "collapsed": true
   },
   "outputs": [],
   "source": [
    "data['region']=region"
   ]
  },
  {
   "cell_type": "code",
   "execution_count": 24,
   "metadata": {},
   "outputs": [
    {
     "data": {
      "text/html": [
       "<div>\n",
       "<table border=\"1\" class=\"dataframe\">\n",
       "  <thead>\n",
       "    <tr style=\"text-align: right;\">\n",
       "      <th></th>\n",
       "      <th>request</th>\n",
       "      <th>dti</th>\n",
       "      <th>state</th>\n",
       "      <th>emp_length</th>\n",
       "      <th>funded_amnt</th>\n",
       "      <th>result</th>\n",
       "      <th>emp</th>\n",
       "      <th>region</th>\n",
       "    </tr>\n",
       "  </thead>\n",
       "  <tbody>\n",
       "    <tr>\n",
       "      <th>370793</th>\n",
       "      <td>35000.0</td>\n",
       "      <td>5.65</td>\n",
       "      <td>CA</td>\n",
       "      <td>&lt; 1 year</td>\n",
       "      <td>0</td>\n",
       "      <td>0</td>\n",
       "      <td>1</td>\n",
       "      <td>9</td>\n",
       "    </tr>\n",
       "    <tr>\n",
       "      <th>400976</th>\n",
       "      <td>15000.0</td>\n",
       "      <td>9.51</td>\n",
       "      <td>FL</td>\n",
       "      <td>9 years</td>\n",
       "      <td>0</td>\n",
       "      <td>0</td>\n",
       "      <td>4</td>\n",
       "      <td>4</td>\n",
       "    </tr>\n",
       "    <tr>\n",
       "      <th>770973</th>\n",
       "      <td>16000.0</td>\n",
       "      <td>22.08</td>\n",
       "      <td>WA</td>\n",
       "      <td>4 years</td>\n",
       "      <td>16000</td>\n",
       "      <td>1</td>\n",
       "      <td>2</td>\n",
       "      <td>10</td>\n",
       "    </tr>\n",
       "  </tbody>\n",
       "</table>\n",
       "</div>"
      ],
      "text/plain": [
       "        request    dti state emp_length  funded_amnt  result  emp  region\n",
       "370793  35000.0   5.65    CA   < 1 year            0       0    1       9\n",
       "400976  15000.0   9.51    FL    9 years            0       0    4       4\n",
       "770973  16000.0  22.08    WA    4 years        16000       1    2      10"
      ]
     },
     "execution_count": 24,
     "metadata": {},
     "output_type": "execute_result"
    }
   ],
   "source": [
    "data.sample(3)"
   ]
  },
  {
   "cell_type": "code",
   "execution_count": 25,
   "metadata": {
    "collapsed": true
   },
   "outputs": [],
   "source": [
    "x = np.array(data[['request','dti','emp','region']]).reshape(-1,4)\n",
    "y = data['result']"
   ]
  },
  {
   "cell_type": "code",
   "execution_count": 26,
   "metadata": {},
   "outputs": [],
   "source": [
    "#Model evaluation using a validation set:\n",
    "(x_train,x_test,y_train,y_test)=train_test_split(x,y,test_size=0.75,\n",
    "                                                 random_state=42)"
   ]
  },
  {
   "cell_type": "code",
   "execution_count": 27,
   "metadata": {},
   "outputs": [
    {
     "name": "stdout",
     "output_type": "stream",
     "text": [
      "[0 0 0 ..., 0 0 0]\n"
     ]
    }
   ],
   "source": [
    "model1 = LogisticRegression()\n",
    "model1.fit(x_train, y_train)\n",
    "predicted=model1.predict(x_test)\n",
    "print predicted"
   ]
  },
  {
   "cell_type": "code",
   "execution_count": 28,
   "metadata": {},
   "outputs": [
    {
     "name": "stdout",
     "output_type": "stream",
     "text": [
      "[[ 0.95543267  0.04456733]\n",
      " [ 0.96392641  0.03607359]\n",
      " [ 0.86747152  0.13252848]\n",
      " ..., \n",
      " [ 0.99161918  0.00838082]\n",
      " [ 0.97738763  0.02261237]\n",
      " [ 0.98027078  0.01972922]]\n"
     ]
    }
   ],
   "source": [
    "#Generate class probabilities\n",
    "#\n",
    "probs = model1.predict_proba(x_test)\n",
    "print probs"
   ]
  },
  {
   "cell_type": "code",
   "execution_count": 29,
   "metadata": {},
   "outputs": [
    {
     "name": "stdout",
     "output_type": "stream",
     "text": [
      "0.964493535767\n",
      "0.695483776596\n",
      "[[566530      0]\n",
      " [ 20856      0]]\n",
      "             precision    recall  f1-score   support\n",
      "\n",
      "          0       0.96      1.00      0.98    566530\n",
      "          1       0.00      0.00      0.00     20856\n",
      "\n",
      "avg / total       0.93      0.96      0.95    587386\n",
      "\n"
     ]
    },
    {
     "name": "stderr",
     "output_type": "stream",
     "text": [
      "/Users/VyUng/anaconda2/lib/python2.7/site-packages/sklearn/metrics/metrics.py:1905: UserWarning: The sum of true positives and false positives are equal to zero for some labels. Precision is ill defined for those labels [1]. The precision and recall are equal to zero for some labels. fbeta_score is ill defined for those labels [1]. \n",
      "  average=None)\n"
     ]
    }
   ],
   "source": [
    "\n",
    "#Generate evaluation matrics \n",
    "print accuracy_score(y_test,predicted)\n",
    "print roc_auc_score(y_test,probs[:,1])\n",
    "print confusion_matrix(y_test, predicted)\n",
    "print classification_report(y_test, predicted)"
   ]
  },
  {
   "cell_type": "code",
   "execution_count": 30,
   "metadata": {},
   "outputs": [
    {
     "name": "stdout",
     "output_type": "stream",
     "text": [
      "[ 0.96460629  0.96456753  0.9645803   0.96461861  0.964542    0.96461861\n",
      "  0.96461861  0.96461861  0.96460584  0.96460584]\n",
      "0.964598221857\n"
     ]
    }
   ],
   "source": [
    "#Model evaluation using cross-validation:\n",
    "scores = cross_val_score(LogisticRegression(),x,y,\n",
    "                         scoring='accuracy',cv=10)\n",
    "print scores\n",
    "print scores.mean()"
   ]
  },
  {
   "cell_type": "code",
   "execution_count": 31,
   "metadata": {},
   "outputs": [
    {
     "name": "stdout",
     "output_type": "stream",
     "text": [
      "[ 0.69791394  0.6872579   0.68838829  0.68695926  0.66462151  0.81394411\n",
      "  0.80514369  0.81198556  0.67624401  0.67586043]\n",
      "0.720831869525\n"
     ]
    }
   ],
   "source": [
    "scores2 = cross_val_score(LogisticRegression(),x,y,\n",
    "                          scoring='roc_auc',cv=10)\n",
    "print scores2\n",
    "print scores2.mean()"
   ]
  },
  {
   "cell_type": "code",
   "execution_count": null,
   "metadata": {
    "collapsed": true
   },
   "outputs": [],
   "source": []
  },
  {
   "cell_type": "code",
   "execution_count": null,
   "metadata": {
    "collapsed": true
   },
   "outputs": [],
   "source": []
  },
  {
   "cell_type": "code",
   "execution_count": null,
   "metadata": {
    "collapsed": true
   },
   "outputs": [],
   "source": []
  },
  {
   "cell_type": "code",
   "execution_count": null,
   "metadata": {
    "collapsed": true
   },
   "outputs": [],
   "source": []
  }
 ],
 "metadata": {
  "anaconda-cloud": {},
  "kernelspec": {
   "display_name": "Python 3",
   "language": "python",
   "name": "python3"
  },
  "language_info": {
   "codemirror_mode": {
    "name": "ipython",
    "version": 3
   },
   "file_extension": ".py",
   "mimetype": "text/x-python",
   "name": "python",
   "nbconvert_exporter": "python",
   "pygments_lexer": "ipython3",
   "version": "3.6.3"
  }
 },
 "nbformat": 4,
 "nbformat_minor": 1
}
