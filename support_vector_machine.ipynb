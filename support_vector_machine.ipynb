{
 "cells": [
  {
   "cell_type": "code",
   "execution_count": 1,
   "metadata": {
    "collapsed": true
   },
   "outputs": [],
   "source": [
    "from sklearn.datasets import fetch_mldata\n",
    "from sklearn.cross_validation import train_test_split\n",
    "import numpy as np\n",
    "from sklearn import svm\n",
    "import time\n",
    "import random\n",
    "from sklearn.metrics import accuracy_score"
   ]
  },
  {
   "cell_type": "code",
   "execution_count": 2,
   "metadata": {
    "collapsed": true
   },
   "outputs": [],
   "source": [
    "mnist_data = fetch_mldata('MNIST original')"
   ]
  },
  {
   "cell_type": "code",
   "execution_count": 3,
   "metadata": {
    "collapsed": true
   },
   "outputs": [],
   "source": [
    "index = []\n",
    "for i in range(len(mnist_data.target)):\n",
    "    if mnist_data.target[i] == 3 or mnist_data.target[i] == 9:\n",
    "        index.append(i)"
   ]
  },
  {
   "cell_type": "code",
   "execution_count": 4,
   "metadata": {
    "collapsed": true
   },
   "outputs": [],
   "source": [
    "data = [mnist_data.data[i] for i in index]\n",
    "target = [mnist_data.target[i] for i in index]"
   ]
  },
  {
   "cell_type": "code",
   "execution_count": 5,
   "metadata": {
    "collapsed": false
   },
   "outputs": [
    {
     "name": "stderr",
     "output_type": "stream",
     "text": [
      "/Users/VyUng/anaconda2/lib/python2.7/site-packages/matplotlib/font_manager.py:273: UserWarning: Matplotlib is building the font cache using fc-list. This may take a moment.\n",
      "  warnings.warn('Matplotlib is building the font cache using fc-list. This may take a moment.')\n"
     ]
    },
    {
     "data": {
      "text/plain": [
       "<matplotlib.figure.Figure at 0x10c086b90>"
      ]
     },
     "metadata": {},
     "output_type": "display_data"
    },
    {
     "data": {
      "image/png": "[encoded data removed]",
      "text/plain": [
       "<matplotlib.figure.Figure at 0x10be09310>"
      ]
     },
     "metadata": {},
     "output_type": "display_data"
    },
    {
     "data": {
      "image/png": "[encoded data removed]",
      "text/plain": [
       "<matplotlib.figure.Figure at 0x10cd01550>"
      ]
     },
     "metadata": {},
     "output_type": "display_data"
    }
   ],
   "source": [
    "import matplotlib.pyplot as plt \n",
    "%matplotlib inline \n",
    "\n",
    "plt.gray() \n",
    "plt.matshow(data[3].reshape(28,28))\n",
    "plt.matshow(data[9].reshape(28,28))\n",
    "\n",
    "plt.show() "
   ]
  },
  {
   "cell_type": "markdown",
   "metadata": {},
   "source": [
    "# Splitting into train set and test set "
   ]
  },
  {
   "cell_type": "code",
   "execution_count": 6,
   "metadata": {
    "collapsed": true
   },
   "outputs": [],
   "source": [
    "(x_train,x_test,y_train,y_test)=train_test_split(np.array(data), \n",
    "                                                 target,\n",
    "                                                 test_size=0.2, \n",
    "                                                 random_state=42)"
   ]
  },
  {
   "cell_type": "markdown",
   "metadata": {},
   "source": [
    "# Linear Kernel"
   ]
  },
  {
   "cell_type": "code",
   "execution_count": 7,
   "metadata": {
    "collapsed": true
   },
   "outputs": [],
   "source": [
    "start_linear = time.time()\n",
    "linear = svm.SVC(kernel= 'linear')\n",
    "linear.fit(x_train, y_train)\n",
    "linear_time = time.time() - start_linear\n",
    "predicted_linear = linear.predict(x_test)"
   ]
  },
  {
   "cell_type": "code",
   "execution_count": 8,
   "metadata": {
    "collapsed": false
   },
   "outputs": [
    {
     "name": "stdout",
     "output_type": "stream",
     "text": [
      "16.7636489868\n",
      "0.972695035461\n"
     ]
    }
   ],
   "source": [
    "linear_accuracy=accuracy_score(y_test,predicted_linear)\n",
    "print linear_time\n",
    "print linear_accuracy"
   ]
  },
  {
   "cell_type": "markdown",
   "metadata": {},
   "source": [
    "# Poly Kernel"
   ]
  },
  {
   "cell_type": "code",
   "execution_count": 9,
   "metadata": {
    "collapsed": true
   },
   "outputs": [],
   "source": [
    "start_poly = time.time()\n",
    "poly = svm.SVC(kernel = 'poly')\n",
    "poly.fit(x_train, y_train) \n",
    "poly_time = time.time() - start_poly\n",
    "predicted_poly = poly.predict(x_test)"
   ]
  },
  {
   "cell_type": "code",
   "execution_count": 10,
   "metadata": {
    "collapsed": false
   },
   "outputs": [
    {
     "name": "stdout",
     "output_type": "stream",
     "text": [
      "10.8888339996\n",
      "0.993971631206\n"
     ]
    }
   ],
   "source": [
    "poly_accuracy = accuracy_score(y_test,predicted_poly)\n",
    "print poly_time\n",
    "print poly_accuracy"
   ]
  },
  {
   "cell_type": "markdown",
   "metadata": {},
   "source": [
    "# RBF Kernel "
   ]
  },
  {
   "cell_type": "code",
   "execution_count": 11,
   "metadata": {
    "collapsed": true
   },
   "outputs": [],
   "source": [
    "start_rbf = time.time()\n",
    "rbf = svm.SVC(kernel = 'rbf')\n",
    "rbf.fit(x_train, y_train) \n",
    "rbf_time = time.time() - start_rbf\n",
    "predicted_rbf = rbf.predict(x_test)"
   ]
  },
  {
   "cell_type": "code",
   "execution_count": 12,
   "metadata": {
    "collapsed": false
   },
   "outputs": [
    {
     "name": "stdout",
     "output_type": "stream",
     "text": [
      "477.993381023\n",
      "0.503546099291\n"
     ]
    }
   ],
   "source": [
    "rbf_accuracy = accuracy_score(y_test,predicted_rbf)\n",
    "print rbf_time\n",
    "print rbf_accuracy"
   ]
  },
  {
   "cell_type": "code",
   "execution_count": 13,
   "metadata": {
    "collapsed": true
   },
   "outputs": [],
   "source": [
    "from tabulate import tabulate"
   ]
  },
  {
   "cell_type": "code",
   "execution_count": 14,
   "metadata": {
    "collapsed": false
   },
   "outputs": [
    {
     "name": "stdout",
     "output_type": "stream",
     "text": [
      "| Type of Kernel   |   Train time (s) |   Accuracy |\n",
      "|------------------+------------------+------------|\n",
      "| Linear           |          16.7636 |   0.972695 |\n",
      "| Poly             |          10.8888 |   0.993972 |\n",
      "| RBF              |         477.993  |   0.503546 |\n"
     ]
    }
   ],
   "source": [
    "table= tabulate([['Linear',linear_time,linear_accuracy],\n",
    "                ['Poly',poly_time,poly_accuracy],\n",
    "                ['RBF',rbf_time,rbf_accuracy]],\n",
    "                headers=['Type of Kernel','Train time (s)','Accuracy'],\n",
    "                tablefmt='orgtbl')\n",
    "print (table)"
   ]
  },
  {
   "cell_type": "markdown",
   "metadata": {},
   "source": [
    "From the table we can see that the RBF Kernel takes the longest to run, but returns the lowest accuracy score. The Poly Kernel runs the most quickly, and returns the highest accuracy score. "
   ]
  },
  {
   "cell_type": "code",
   "execution_count": null,
   "metadata": {
    "collapsed": true
   },
   "outputs": [],
   "source": []
  }
 ],
 "metadata": {
  "kernelspec": {
   "display_name": "Python [default]",
   "language": "python",
   "name": "python2"
  },
  "language_info": {
   "codemirror_mode": {
    "name": "ipython",
    "version": 2
   },
   "file_extension": ".py",
   "mimetype": "text/x-python",
   "name": "python",
   "nbconvert_exporter": "python",
   "pygments_lexer": "ipython2",
   "version": "2.7.12"
  }
 },
 "nbformat": 4,
 "nbformat_minor": 1
}
