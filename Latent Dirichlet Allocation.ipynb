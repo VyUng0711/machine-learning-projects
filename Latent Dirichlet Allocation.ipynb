{
 "cells": [
  {
   "cell_type": "code",
   "execution_count": 1,
   "metadata": {},
   "outputs": [
    {
     "name": "stdout",
     "output_type": "stream",
     "text": [
      "showing info https://raw.githubusercontent.com/nltk/nltk_data/gh-pages/index.xml\n"
     ]
    },
    {
     "data": {
      "text/plain": [
       "True"
      ]
     },
     "execution_count": 1,
     "metadata": {},
     "output_type": "execute_result"
    }
   ],
   "source": [
    "import nltk\n",
    "nltk.download()"
   ]
  },
  {
   "cell_type": "code",
   "execution_count": 2,
   "metadata": {},
   "outputs": [],
   "source": [
    "from sklearn.feature_extraction.text import TfidfVectorizer, CountVectorizer\n",
    "from sklearn.decomposition import NMF, LatentDirichletAllocation\n",
    "from sklearn.datasets import fetch_20newsgroups"
   ]
  },
  {
   "cell_type": "code",
   "execution_count": 4,
   "metadata": {},
   "outputs": [],
   "source": [
    "import string\n",
    "with open(\"/Users/VyUng/mystuff/WutheringHeights.txt\", 'r') as doc:\n",
    "    t = doc.read()\n",
    "from nltk.corpus import stopwords\n",
    "# Import stopwords\n",
    "sw = set(stopwords.words('english'))\n",
    "# Import stopwords\n",
    "sw = set(stopwords.words('english'))\n",
    "# Remove punctuation\n",
    "no_punc = t.translate(None, string.punctuation)\n",
    "# Remove stopwords\n",
    "no_sw = [word for word in no_punc.split() if word not in sw]\n",
    "# Put full string back together\n",
    "text = \" \".join(no_sw)\n",
    "\n",
    "# Break text down into sub-sections of specified length\n",
    "import textwrap\n",
    "fake_chaps = textwrap.wrap(text, 30000)"
   ]
  },
  {
   "cell_type": "code",
   "execution_count": 5,
   "metadata": {
    "scrolled": false
   },
   "outputs": [],
   "source": [
    "#print fake_chaps[0]"
   ]
  },
  {
   "cell_type": "code",
   "execution_count": null,
   "metadata": {
    "collapsed": true
   },
   "outputs": [],
   "source": [
    "# Use tf (raw term count) features for LDA.\n",
    "print(\"Extracting features for LDA...\")\n",
    "tf_vectorizer = CountVectorizer(max_df=0.95, min_df=2,\n",
    "                                max_features=1000,\n",
    "                                stop_words='english')\n",
    "t0 = time()\n",
    "tf = tf_vectorizer.fit_transform(text)\n",
    "print(\"done in %0.3fs.\" % (time() - t0))\n",
    "print()"
   ]
  },
  {
   "cell_type": "code",
   "execution_count": 1,
   "metadata": {},
   "outputs": [],
   "source": [
    "from string import maketrans, punctuation \n",
    "with open(\"/Users/VyUng/mystuff/WutheringHeights.txt\") as f:\n",
    "    words = [word for line in f for word in line.split()]\n",
    "table = maketrans(\"\",\"\")\n",
    "for i in words:\n",
    "    w = i.translate(table, punctuation)\n",
    "    #print w/"
   ]
  },
  {
   "cell_type": "code",
   "execution_count": 6,
   "metadata": {
    "collapsed": true
   },
   "outputs": [],
   "source": [
    "import collections"
   ]
  },
  {
   "cell_type": "code",
   "execution_count": 2,
   "metadata": {
    "collapsed": true
   },
   "outputs": [],
   "source": [
    "CONTENTS_OPTIONS = ('CONTENTS', 'Contents')\n",
    "IGNORE_CONTENTS = ('NOTES', ':', 'CONTENTS', 'Contents', 'Contents:')\n",
    "SKIP_CONTENTS = ('APPENDIX', 'GLOSSARY')\n",
    "TERMINATION = '*** END OF THIS PROJECT GUTENBERG EBOOK'\n",
    "\n",
    "def split_book_by_contents(path, contents=None):\n",
    "    chapters = collections.OrderedDict()\n",
    "    \n",
    "    with open(path) as book_file:\n",
    "        book = book_file.read()\n",
    "        \n",
    "        if not contents:\n",
    "            contents_start = -1\n",
    "            for c in CONTENTS_OPTIONS:\n",
    "                idx = book.find(c)\n",
    "                if -1 != idx:\n",
    "                    contents_start = idx + len(c)\n",
    "                    break\n",
    "\n",
    "            if -1 == contents_start:\n",
    "                raise ValueError('Failed to find table of contents, aborting...')\n",
    "\n",
    "            contents_end = book.find('\\n' * 4, contents_start)\n",
    "            contents = book[contents_start : contents_end].split('\\n')\n",
    "            contents = [c.strip() for c in contents]\n",
    "            contents = [c for c in contents if c and c not in IGNORE_CONTENTS]\n",
    "            start_index = contents_end\n",
    "            \n",
    "        else:\n",
    "            start_index = book.find(contents[0]) - 1\n",
    "        \n",
    "        contents_and_end = contents + [TERMINATION]\n",
    "        \n",
    "        for start_title, end_title in zip(contents, contents[1:]):\n",
    "            if start_title in SKIP_CONTENTS: continue\n",
    "                \n",
    "            chapter_start = book.find(start_title, start_index) + len(start_title)\n",
    "            chapter_end = book.find(end_title, chapter_start)\n",
    "            chapters[start_title] = book[chapter_start : chapter_end].strip()\n",
    "            \n",
    "            start_index = chapter_end - 1\n",
    "        \n",
    "        \n",
    "    return chapters"
   ]
  },
  {
   "cell_type": "code",
   "execution_count": 5,
   "metadata": {},
   "outputs": [],
   "source": [
    "my_data=split_book_by_contents(\"/Users/VyUng/mystuff/WutheringHeights.txt\")"
   ]
  },
  {
   "cell_type": "code",
   "execution_count": 15,
   "metadata": {},
   "outputs": [],
   "source": [
    "#from sklearn.decomposition import LatentDirichletAllocation"
   ]
  },
  {
   "cell_type": "code",
   "execution_count": null,
   "metadata": {
    "collapsed": true
   },
   "outputs": [],
   "source": [
    "lda = LatentDirichletAllocation(n_components=10)\n",
    "myfit = lda.fit(documents)"
   ]
  },
  {
   "cell_type": "code",
   "execution_count": null,
   "metadata": {
    "collapsed": true
   },
   "outputs": [],
   "source": [
    "lda = LatentDirichletAllocation(n_components=n_components, max_iter=5,\n",
    "                                learning_method='online',\n",
    "                                learning_offset=50.,\n",
    "                                random_state=0)\n",
    "t0 = time()\n",
    "lda.fit(tf)\n",
    "print(\"done in %0.3fs.\" % (time() - t0))\n",
    "\n",
    "print(\"\\nTopics in LDA model:\")\n",
    "tf_feature_names = tf_vectorizer.get_feature_names()\n",
    "print_top_words(lda, tf_feature_names, n_top_words)\n"
   ]
  }
 ],
 "metadata": {
  "anaconda-cloud": {},
  "kernelspec": {
   "display_name": "Python 3",
   "language": "python",
   "name": "python3"
  },
  "language_info": {
   "codemirror_mode": {
    "name": "ipython",
    "version": 3
   },
   "file_extension": ".py",
   "mimetype": "text/x-python",
   "name": "python",
   "nbconvert_exporter": "python",
   "pygments_lexer": "ipython3",
   "version": "3.6.3"
  }
 },
 "nbformat": 4,
 "nbformat_minor": 1
}
